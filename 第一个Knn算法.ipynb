{
 "cells": [
  {
   "cell_type": "markdown",
   "metadata": {},
   "source": [
    "# 写一个Knn算法"
   ]
  },
  {
   "cell_type": "code",
   "execution_count": 1,
   "metadata": {},
   "outputs": [],
   "source": [
    "import numpy as np\n",
    "import operator\n",
    "import pandas as pd\n",
    "from sklearn.model_selection import train_test_split\n",
    "#导入包"
   ]
  },
  {
   "cell_type": "code",
   "execution_count": 2,
   "metadata": {},
   "outputs": [
    {
     "data": {
      "text/html": [
       "<div>\n",
       "<style scoped>\n",
       "    .dataframe tbody tr th:only-of-type {\n",
       "        vertical-align: middle;\n",
       "    }\n",
       "\n",
       "    .dataframe tbody tr th {\n",
       "        vertical-align: top;\n",
       "    }\n",
       "\n",
       "    .dataframe thead th {\n",
       "        text-align: right;\n",
       "    }\n",
       "</style>\n",
       "<table border=\"1\" class=\"dataframe\">\n",
       "  <thead>\n",
       "    <tr style=\"text-align: right;\">\n",
       "      <th></th>\n",
       "      <th>0</th>\n",
       "      <th>1</th>\n",
       "      <th>2</th>\n",
       "      <th>3</th>\n",
       "    </tr>\n",
       "  </thead>\n",
       "  <tbody>\n",
       "    <tr>\n",
       "      <th>0</th>\n",
       "      <td>40920</td>\n",
       "      <td>8.326976</td>\n",
       "      <td>0.953952</td>\n",
       "      <td>3</td>\n",
       "    </tr>\n",
       "    <tr>\n",
       "      <th>1</th>\n",
       "      <td>14488</td>\n",
       "      <td>7.153469</td>\n",
       "      <td>1.673904</td>\n",
       "      <td>2</td>\n",
       "    </tr>\n",
       "  </tbody>\n",
       "</table>\n",
       "</div>"
      ],
      "text/plain": [
       "       0         1         2  3\n",
       "0  40920  8.326976  0.953952  3\n",
       "1  14488  7.153469  1.673904  2"
      ]
     },
     "execution_count": 2,
     "metadata": {},
     "output_type": "execute_result"
    }
   ],
   "source": [
    "#查看数据\n",
    "df = pd.read_csv('datingTestSet2.txt',sep = '\\t',header = None)\n",
    "df.head(2)"
   ]
  },
  {
   "cell_type": "code",
   "execution_count": 3,
   "metadata": {},
   "outputs": [],
   "source": [
    "#将数据分割\n",
    "X = df.iloc[:,:-1]\n",
    "Y = df.iloc[:,-1]\n",
    "x_train,x_test,y_train,y_test = train_test_split(X,Y,test_size = 0.2,random_state = 0)"
   ]
  },
  {
   "cell_type": "code",
   "execution_count": 4,
   "metadata": {},
   "outputs": [],
   "source": [
    "#将数据归一化\n",
    "def Minmax(datas):\n",
    "    data_max = datas.max()\n",
    "    data_min = datas.min()\n",
    "    ranges = data_max-data_min\n",
    "    zero = np.zeros(np.shape(datas))\n",
    "    m = datas.shape[0]\n",
    "    norm = datas - np.tile(data_min,(m,1))\n",
    "    norm = norm/np.tile(ranges,(m,1))\n",
    "    return norm\n",
    "x_train = Minmax(x_train)\n",
    "x_test = Minmax(x_test)\n",
    "    "
   ]
  },
  {
   "cell_type": "code",
   "execution_count": 5,
   "metadata": {},
   "outputs": [],
   "source": [
    "n = len(x_train)  #用于将x_test的数据来减去每个x_train要扩张\n",
    "n_test = len(x_test) #多少个test集数据，遍历用"
   ]
  },
  {
   "cell_type": "code",
   "execution_count": 6,
   "metadata": {},
   "outputs": [],
   "source": [
    "y_predict = [] #装我的结果\n",
    "k = 3 #设置K值\n",
    "for i in range(n_test):\n",
    "    diffMat = np.tile(x_test.iloc[i,:],(n,1)) - x_train   #np.tile使得第i行的数据，先变为x_train一样的格式，然后减去x_train的每一行 欧式距离中的（xi - x)\n",
    "    diffMat = diffMat**2\n",
    "    sumdiff = diffMat.sum(axis = 1)\n",
    "    sqrdiff = sumdiff**0.5  #以上计算为计算欧式距离\n",
    "    sortedDistIndicies = sqrdiff.argsort()  #将距离从小到大排序，这里得到的值就是索引值\n",
    "    classCount = {}\n",
    "    for t in range(3):\n",
    "        a = sortedDistIndicies.reset_index().iloc[t,-1] #用这个方法得到第t行的值\n",
    "        votelabel = y_train.reset_index().iloc[a,-1] #得到的是索引，什么的索引，这个索引是按从小到大排序，最小的便是值最小的那个值的索引\n",
    "        classCount[votelabel] = classCount.get(votelabel,0) + 1 #get函数，字典中有votelabel就取这个键对应的值，没有就返回0\n",
    "    sortedClassCount = sorted(classCount.items(), key=operator.itemgetter(1), reverse=True) \n",
    "    # operator.itemgetter 获取对象的哪个维度的数据，从大到小排序，得到投票最多的label\n",
    "    y_predict.append(sortedClassCount[0][0]) #将这个label添加到我这里"
   ]
  },
  {
   "cell_type": "code",
   "execution_count": 13,
   "metadata": {},
   "outputs": [
    {
     "name": "stdout",
     "output_type": "stream",
     "text": [
      "正确率：90.00%\n"
     ]
    }
   ],
   "source": [
    "#计算正确率\n",
    "score = np.mean(y_predict == y_test)\n",
    "print('正确率：%.2f%%'%(score*100))"
   ]
  },
  {
   "cell_type": "code",
   "execution_count": 21,
   "metadata": {},
   "outputs": [
    {
     "data": {
      "text/plain": [
       "<matplotlib.legend.Legend at 0x20a3953d048>"
      ]
     },
     "execution_count": 21,
     "metadata": {},
     "output_type": "execute_result"
    },
    {
     "data": {
      "image/png": "[encoded data removed]",
      "text/plain": [
       "<Figure size 1152x504 with 1 Axes>"
      ]
     },
     "metadata": {},
     "output_type": "display_data"
    }
   ],
   "source": [
    "#画图\n",
    "import matplotlib.pyplot as plt\n",
    "t = range(len(x_test))\n",
    "plt.figure(figsize = (16,7))\n",
    "plt.plot(t,y_test,'ro',markersize = 6,zorder = 3,label = 'y_test')\n",
    "plt.plot(t,y_predict,'bo',markersize = 10,zorder =2,label = 'y_predict')\n",
    "plt.legend(loc = 'best')"
   ]
  },
  {
   "cell_type": "code",
   "execution_count": null,
   "metadata": {},
   "outputs": [],
   "source": []
  }
 ],
 "metadata": {
  "kernelspec": {
   "display_name": "Python 3",
   "language": "python",
   "name": "python3"
  },
  "language_info": {
   "codemirror_mode": {
    "name": "ipython",
    "version": 3
   },
   "file_extension": ".py",
   "mimetype": "text/x-python",
   "name": "python",
   "nbconvert_exporter": "python",
   "pygments_lexer": "ipython3",
   "version": "3.6.5"
  }
 },
 "nbformat": 4,
 "nbformat_minor": 2
}
