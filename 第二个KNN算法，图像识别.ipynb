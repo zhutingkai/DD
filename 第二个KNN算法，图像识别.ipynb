{
 "cells": [
  {
   "cell_type": "markdown",
   "metadata": {},
   "source": [
    "# Knn图形识别"
   ]
  },
  {
   "cell_type": "code",
   "execution_count": 1,
   "metadata": {},
   "outputs": [],
   "source": [
    "import numpy as np\n",
    "import pandas as pd\n",
    "import operator\n",
    "from os import listdir"
   ]
  },
  {
   "cell_type": "code",
   "execution_count": 2,
   "metadata": {},
   "outputs": [],
   "source": [
    "#定义一个打开文件夹中test文件的函数，并且转化成一维向量\n",
    "def onearray(filename):\n",
    "    returnVect = np.zeros((1,1024))  #待转化成这种格式，原格式为32*32\n",
    "    fr = open(filename)\n",
    "    for i in range(32):  #读取第i行\n",
    "        linestr = fr.readline()\n",
    "        for j in range(32):\n",
    "            returnVect[0,i*32 + j] = int(linestr[j])  #要转化成整型，将第i行第j个数据填到一维向量中的i*32 + j位置中\n",
    "    return returnVect\n"
   ]
  },
  {
   "cell_type": "code",
   "execution_count": 3,
   "metadata": {},
   "outputs": [],
   "source": [
    "#定义KNN算法\n",
    "def knn(x_train,x_test,y_train,k):\n",
    "    x_train_n = x_train.shape[0]  #训练样本个数\n",
    "    diff = np.tile(x_test,(x_train_n,1)) - x_train\n",
    "    pf = diff**2\n",
    "    pfh = pf.sum(axis = 1)\n",
    "    distances = pfh**0.5 #计算x_test与各个train的欧式距离\n",
    "    sortedDistIndicies = distances.argsort()    # 返回排序从小到达的索引位置\n",
    "    classCount = {}   # 字典存储k近邻不同Y出现的次数，用来进行投票\n",
    "    for i in range(k):  #准备找k个临近点\n",
    "        votelabel = y_train[sortedDistIndicies[i]]\n",
    "        classCount[votelabel] = classCount.get(votelabel, 0) + 1    # 对应label加1，classCount中若无此key，则默认为0\n",
    "    sortedClassCount = sorted(classCount.items(), key=operator.itemgetter(1), reverse=True) \n",
    "    # operator.itemgetter 获取对象的哪个维度的数据\n",
    "    return sortedClassCount[0][0] #取最前面的那个为投票最多的值Y\n",
    "    "
   ]
  },
  {
   "cell_type": "code",
   "execution_count": 4,
   "metadata": {},
   "outputs": [],
   "source": [
    "#进行样本的训练以及预测\n",
    "def Classtest():\n",
    "    y_train = [] \n",
    "    trainingFileList = listdir('trainingDigits')  #读取训练集样本的文件的名字\n",
    "    m = len(trainingFileList)  #读取文件夹中数据txt的个数\n",
    "    x_train = np.zeros((m,1024))  #构建一整块的数据集\n",
    "    for i in range(m):\n",
    "        filenamestr = trainingFileList[i] #得到每个文件的名字\n",
    "        filestr = filenamestr.split('.')[0]\n",
    "        y_traini = int(filestr.split('_')[0])\n",
    "        y_train.append(y_traini)  #文件的第一个字母为类别\n",
    "        x_train[i,:] = onearray('trainingDigits/%s' % filenamestr) #读取每一个文件，并且化成一维向量\n",
    "    #这时候trainmat为是一整块数据集了，x_train与y_train都准备好了\n",
    "    #现在要准备x_train了\n",
    "    testFileList = listdir('testDigits')\n",
    "    m_test = len(testFileList)\n",
    "    y_test = []\n",
    "    y_pre = []\n",
    "    errorCount = 0.0\n",
    "    for j in range(m_test):\n",
    "        filenamestr = testFileList[j]\n",
    "        filestr = filenamestr.split('.')[0]\n",
    "        y_testi = int(filestr.split('_')[0])\n",
    "        y_test.append(y_testi)\n",
    "        x_testj = onearray('testDigits/%s' %filenamestr)\n",
    "        #对每个j样本，都要作KNN算法了\n",
    "        y_pre_j = knn(x_train,x_testj,y_train,3)\n",
    "        y_pre.append(y_pre_j)\n",
    "        if (y_pre_j != y_testi): errorCount += 1.0\n",
    "    score = np.mean(y_test == y_pre)\n",
    "    #print(score)\n",
    "    #print(y_pre)\n",
    "    #print(y_test)\n",
    "    print(errorCount)\n",
    "    \n",
    "    "
   ]
  },
  {
   "cell_type": "code",
   "execution_count": 5,
   "metadata": {},
   "outputs": [
    {
     "name": "stdout",
     "output_type": "stream",
     "text": [
      "10.0\n"
     ]
    }
   ],
   "source": [
    "Classtest()"
   ]
  },
  {
   "cell_type": "code",
   "execution_count": null,
   "metadata": {},
   "outputs": [],
   "source": []
  },
  {
   "cell_type": "code",
   "execution_count": null,
   "metadata": {},
   "outputs": [],
   "source": []
  },
  {
   "cell_type": "code",
   "execution_count": null,
   "metadata": {},
   "outputs": [],
   "source": []
  }
 ],
 "metadata": {
  "kernelspec": {
   "display_name": "Python 3",
   "language": "python",
   "name": "python3"
  },
  "language_info": {
   "codemirror_mode": {
    "name": "ipython",
    "version": 3
   },
   "file_extension": ".py",
   "mimetype": "text/x-python",
   "name": "python",
   "nbconvert_exporter": "python",
   "pygments_lexer": "ipython3",
   "version": "3.6.5"
  }
 },
 "nbformat": 4,
 "nbformat_minor": 2
}
